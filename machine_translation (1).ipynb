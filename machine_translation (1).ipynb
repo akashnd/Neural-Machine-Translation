{
 "cells": [
  {
   "cell_type": "code",
   "execution_count": 1,
   "metadata": {
    "_cell_guid": "b1076dfc-b9ad-4769-8c92-a6c4dae69d19",
    "_uuid": "8f2839f25d086af736a60e9eeb907d3b93b6e0e5",
    "id": "HyicvxkmBjYt"
   },
   "outputs": [],
   "source": [
    "# This Python 3 environment comes with many helpful analytics libraries installed\n",
    "# It is defined by the kaggle/python Docker image: https://github.com/kaggle/docker-python\n",
    "# For example, here's several helpful packages to load\n",
    "\n",
    "import numpy as np # linear algebra\n",
    "import pandas as pd # data processing, CSV file I/O (e.g. pd.read_csv)\n",
    "\n",
    "# Input data files are available in the read-only \"../input/\" directory\n",
    "# For example, running this (by clicking run or pressing Shift+Enter) will list all files under the input directory\n",
    "\n",
    "import os\n",
    "for dirname, _, filenames in os.walk('/kaggle/input'):\n",
    "    for filename in filenames:\n",
    "        print(os.path.join(dirname, filename))\n",
    "\n",
    "# You can write up to 20GB to the current directory (/kaggle/working/) that gets preserved as output when you create a version using \"Save & Run All\" \n",
    "# You can also write temporary files to /kaggle/temp/, but they won't be saved outside of the current session"
   ]
  },
  {
   "cell_type": "markdown",
   "metadata": {
    "id": "KXTeE2gaBjY4"
   },
   "source": [
    "# **Contents**\n",
    "* Importing varoius libraries/packages and loading the Dataset\n",
    "* Text Cleaning\n",
    "* Formation of various collections\n",
    "* Splitting up data into text-train\n",
    "* Encoder - Decoder Architecture"
   ]
  },
  {
   "cell_type": "markdown",
   "metadata": {
    "id": "GnzTX882BjY8"
   },
   "source": [
    "## Importing varoius libraries/packages and loading the Dataset"
   ]
  },
  {
   "cell_type": "code",
   "execution_count": 2,
   "metadata": {
    "colab": {
     "base_uri": "https://localhost:8080/"
    },
    "id": "OuH5ue0yBjY-",
    "outputId": "cfd5ef7a-1cbe-49f1-ef51-391a9db9020d"
   },
   "outputs": [
    {
     "name": "stdout",
     "output_type": "stream",
     "text": [
      "[nltk_data] Downloading package punkt to /root/nltk_data...\n",
      "[nltk_data]   Unzipping tokenizers/punkt.zip.\n"
     ]
    }
   ],
   "source": [
    "# Importing some important libraries\n",
    "import string\n",
    "import re\n",
    "from string import digits\n",
    "import matplotlib.pyplot as plt\n",
    "%matplotlib inline\n",
    "import nltk\n",
    "nltk.download('punkt')\n",
    "from nltk.tokenize import word_tokenize\n",
    "\n"
   ]
  },
  {
   "cell_type": "markdown",
   "metadata": {
    "id": "cOWzFWO1BjZA"
   },
   "source": [
    "**About the Dataset:** \n",
    "There are 2 columns one column has english words/sentences and the other one has french words/sentences.\n",
    "For datasets of other languages : http://www.manythings.org/anki/"
   ]
  },
  {
   "cell_type": "code",
   "execution_count": 3,
   "metadata": {
    "_cell_guid": "79c7e3d0-c299-4dcb-8224-4455121ee9b0",
    "_uuid": "d629ff2d2480ee46fbb7e2d37f6b5fab8052498a",
    "colab": {
     "base_uri": "https://localhost:8080/",
     "height": 402
    },
    "id": "Zwg39VymBjZC",
    "outputId": "de15a52b-768e-442c-d405-bb11113fc524"
   },
   "outputs": [
    {
     "data": {
      "text/html": [
       "<div>\n",
       "<style scoped>\n",
       "    .dataframe tbody tr th:only-of-type {\n",
       "        vertical-align: middle;\n",
       "    }\n",
       "\n",
       "    .dataframe tbody tr th {\n",
       "        vertical-align: top;\n",
       "    }\n",
       "\n",
       "    .dataframe thead th {\n",
       "        text-align: right;\n",
       "    }\n",
       "</style>\n",
       "<table border=\"1\" class=\"dataframe\">\n",
       "  <thead>\n",
       "    <tr style=\"text-align: right;\">\n",
       "      <th></th>\n",
       "      <th>English words/sentences</th>\n",
       "      <th>French words/sentences</th>\n",
       "    </tr>\n",
       "  </thead>\n",
       "  <tbody>\n",
       "    <tr>\n",
       "      <th>0</th>\n",
       "      <td>Hi.</td>\n",
       "      <td>Salut!</td>\n",
       "    </tr>\n",
       "    <tr>\n",
       "      <th>1</th>\n",
       "      <td>Run!</td>\n",
       "      <td>Cours !</td>\n",
       "    </tr>\n",
       "    <tr>\n",
       "      <th>2</th>\n",
       "      <td>Run!</td>\n",
       "      <td>Courez !</td>\n",
       "    </tr>\n",
       "    <tr>\n",
       "      <th>3</th>\n",
       "      <td>Who?</td>\n",
       "      <td>Qui ?</td>\n",
       "    </tr>\n",
       "    <tr>\n",
       "      <th>4</th>\n",
       "      <td>Wow!</td>\n",
       "      <td>Ça alors !</td>\n",
       "    </tr>\n",
       "    <tr>\n",
       "      <th>...</th>\n",
       "      <td>...</td>\n",
       "      <td>...</td>\n",
       "    </tr>\n",
       "    <tr>\n",
       "      <th>175616</th>\n",
       "      <td>Top-down economics never works, said Obama. \"T...</td>\n",
       "      <td>« L'économie en partant du haut vers le bas, ç...</td>\n",
       "    </tr>\n",
       "    <tr>\n",
       "      <th>175617</th>\n",
       "      <td>A carbon footprint is the amount of carbon dio...</td>\n",
       "      <td>Une empreinte carbone est la somme de pollutio...</td>\n",
       "    </tr>\n",
       "    <tr>\n",
       "      <th>175618</th>\n",
       "      <td>Death is something that we're often discourage...</td>\n",
       "      <td>La mort est une chose qu'on nous décourage sou...</td>\n",
       "    </tr>\n",
       "    <tr>\n",
       "      <th>175619</th>\n",
       "      <td>Since there are usually multiple websites on a...</td>\n",
       "      <td>Puisqu'il y a de multiples sites web sur chaqu...</td>\n",
       "    </tr>\n",
       "    <tr>\n",
       "      <th>175620</th>\n",
       "      <td>If someone who doesn't know your background sa...</td>\n",
       "      <td>Si quelqu'un qui ne connaît pas vos antécédent...</td>\n",
       "    </tr>\n",
       "  </tbody>\n",
       "</table>\n",
       "<p>175621 rows × 2 columns</p>\n",
       "</div>"
      ],
      "text/plain": [
       "                                  English words/sentences                             French words/sentences\n",
       "0                                                     Hi.                                             Salut!\n",
       "1                                                    Run!                                            Cours !\n",
       "2                                                    Run!                                           Courez !\n",
       "3                                                    Who?                                              Qui ?\n",
       "4                                                    Wow!                                         Ça alors !\n",
       "...                                                   ...                                                ...\n",
       "175616  Top-down economics never works, said Obama. \"T...  « L'économie en partant du haut vers le bas, ç...\n",
       "175617  A carbon footprint is the amount of carbon dio...  Une empreinte carbone est la somme de pollutio...\n",
       "175618  Death is something that we're often discourage...  La mort est une chose qu'on nous décourage sou...\n",
       "175619  Since there are usually multiple websites on a...  Puisqu'il y a de multiples sites web sur chaqu...\n",
       "175620  If someone who doesn't know your background sa...  Si quelqu'un qui ne connaît pas vos antécédent...\n",
       "\n",
       "[175621 rows x 2 columns]"
      ]
     },
     "execution_count": 3,
     "metadata": {
      "tags": []
     },
     "output_type": "execute_result"
    }
   ],
   "source": [
    "# Loading the Dataset\n",
    "df= pd.read_csv(\"eng_-french.csv\")\n",
    "df"
   ]
  },
  {
   "cell_type": "markdown",
   "metadata": {
    "id": "7cVzSPchBjZE"
   },
   "source": [
    "## Text Cleaning"
   ]
  },
  {
   "cell_type": "markdown",
   "metadata": {
    "id": "XiVgZ8maBjZF"
   },
   "source": [
    "All the text cleaning functions are applied for both the languages which mainly includes lowercasing, removing quotes, removing special characters, removing all numbers from text and removing extra spaces."
   ]
  },
  {
   "cell_type": "code",
   "execution_count": 4,
   "metadata": {
    "id": "5oGK5ly1BjZG"
   },
   "outputs": [],
   "source": [
    "# Lowercase all characters\n",
    "df['English words/sentences']=df['English words/sentences'].apply(lambda x: x.lower())\n",
    "df['French words/sentences']=df['French words/sentences'].apply(lambda x: x.lower())\n",
    "\n",
    "# Remove quotes\n",
    "df['English words/sentences']=df['English words/sentences'].apply(lambda x: re.sub(\"'\", '', x))\n",
    "df['French words/sentences']=df['French words/sentences'].apply(lambda x: re.sub(\"'\", '', x))\n",
    "\n",
    "exclude = set(string.punctuation) # Set of all special characters\n",
    "# Remove all the special characters\n",
    "df['English words/sentences']=df['English words/sentences'].apply(lambda x: ''.join(ch for ch in x if ch not in exclude))\n",
    "df['French words/sentences']=df['French words/sentences'].apply(lambda x: ''.join(ch for ch in x if ch not in exclude))\n",
    "\n",
    "# Remove all numbers from text\n",
    "remove_digits = str.maketrans('', '', digits)\n",
    "df['English words/sentences']=df['English words/sentences'].apply(lambda x: x.translate(remove_digits))\n",
    "df['French words/sentences']=df['French words/sentences'].apply(lambda x: x.translate(remove_digits))\n",
    "\n",
    "# Remove extra spaces\n",
    "df['English words/sentences']=df['English words/sentences'].apply(lambda x: x.strip())\n",
    "df['French words/sentences']=df['French words/sentences'].apply(lambda x: x.strip())\n",
    "df['English words/sentences']=df['English words/sentences'].apply(lambda x: re.sub(\" +\", \" \", x))\n",
    "df['French words/sentences']=df['French words/sentences'].apply(lambda x: re.sub(\" +\", \" \", x))\n"
   ]
  },
  {
   "cell_type": "markdown",
   "metadata": {
    "id": "1Ow7NiOyBjZI"
   },
   "source": [
    "We'll now **add _START and _END** to the start and end of the target sentences respectively. I'll explain later on why we did this."
   ]
  },
  {
   "cell_type": "code",
   "execution_count": 5,
   "metadata": {
    "colab": {
     "base_uri": "https://localhost:8080/",
     "height": 402
    },
    "id": "4sGfyr5UBjZK",
    "outputId": "5a9bc1bb-6a93-4f2f-cfc5-1ecdda5919fb"
   },
   "outputs": [
    {
     "data": {
      "text/html": [
       "<div>\n",
       "<style scoped>\n",
       "    .dataframe tbody tr th:only-of-type {\n",
       "        vertical-align: middle;\n",
       "    }\n",
       "\n",
       "    .dataframe tbody tr th {\n",
       "        vertical-align: top;\n",
       "    }\n",
       "\n",
       "    .dataframe thead th {\n",
       "        text-align: right;\n",
       "    }\n",
       "</style>\n",
       "<table border=\"1\" class=\"dataframe\">\n",
       "  <thead>\n",
       "    <tr style=\"text-align: right;\">\n",
       "      <th></th>\n",
       "      <th>English words/sentences</th>\n",
       "      <th>French words/sentences</th>\n",
       "    </tr>\n",
       "  </thead>\n",
       "  <tbody>\n",
       "    <tr>\n",
       "      <th>0</th>\n",
       "      <td>hi</td>\n",
       "      <td>START_ salut _END</td>\n",
       "    </tr>\n",
       "    <tr>\n",
       "      <th>1</th>\n",
       "      <td>run</td>\n",
       "      <td>START_ cours _END</td>\n",
       "    </tr>\n",
       "    <tr>\n",
       "      <th>2</th>\n",
       "      <td>run</td>\n",
       "      <td>START_ courez _END</td>\n",
       "    </tr>\n",
       "    <tr>\n",
       "      <th>3</th>\n",
       "      <td>who</td>\n",
       "      <td>START_ qui _END</td>\n",
       "    </tr>\n",
       "    <tr>\n",
       "      <th>4</th>\n",
       "      <td>wow</td>\n",
       "      <td>START_ ça alors _END</td>\n",
       "    </tr>\n",
       "    <tr>\n",
       "      <th>...</th>\n",
       "      <td>...</td>\n",
       "      <td>...</td>\n",
       "    </tr>\n",
       "    <tr>\n",
       "      <th>175616</th>\n",
       "      <td>topdown economics never works said obama the c...</td>\n",
       "      <td>START_ « léconomie en partant du haut vers le ...</td>\n",
       "    </tr>\n",
       "    <tr>\n",
       "      <th>175617</th>\n",
       "      <td>a carbon footprint is the amount of carbon dio...</td>\n",
       "      <td>START_ une empreinte carbone est la somme de p...</td>\n",
       "    </tr>\n",
       "    <tr>\n",
       "      <th>175618</th>\n",
       "      <td>death is something that were often discouraged...</td>\n",
       "      <td>START_ la mort est une chose quon nous découra...</td>\n",
       "    </tr>\n",
       "    <tr>\n",
       "      <th>175619</th>\n",
       "      <td>since there are usually multiple websites on a...</td>\n",
       "      <td>START_ puisquil y a de multiples sites web sur...</td>\n",
       "    </tr>\n",
       "    <tr>\n",
       "      <th>175620</th>\n",
       "      <td>if someone who doesnt know your background say...</td>\n",
       "      <td>START_ si quelquun qui ne connaît pas vos anté...</td>\n",
       "    </tr>\n",
       "  </tbody>\n",
       "</table>\n",
       "<p>175621 rows × 2 columns</p>\n",
       "</div>"
      ],
      "text/plain": [
       "                                  English words/sentences                             French words/sentences\n",
       "0                                                      hi                                  START_ salut _END\n",
       "1                                                     run                                  START_ cours _END\n",
       "2                                                     run                                 START_ courez _END\n",
       "3                                                     who                                    START_ qui _END\n",
       "4                                                     wow                               START_ ça alors _END\n",
       "...                                                   ...                                                ...\n",
       "175616  topdown economics never works said obama the c...  START_ « léconomie en partant du haut vers le ...\n",
       "175617  a carbon footprint is the amount of carbon dio...  START_ une empreinte carbone est la somme de p...\n",
       "175618  death is something that were often discouraged...  START_ la mort est une chose quon nous découra...\n",
       "175619  since there are usually multiple websites on a...  START_ puisquil y a de multiples sites web sur...\n",
       "175620  if someone who doesnt know your background say...  START_ si quelquun qui ne connaît pas vos anté...\n",
       "\n",
       "[175621 rows x 2 columns]"
      ]
     },
     "execution_count": 5,
     "metadata": {
      "tags": []
     },
     "output_type": "execute_result"
    }
   ],
   "source": [
    "df['French words/sentences'] = df['French words/sentences'].apply(lambda x : 'START_ '+ x + ' _END')\n",
    "df"
   ]
  },
  {
   "cell_type": "markdown",
   "metadata": {
    "id": "uONd0lDkBjZL"
   },
   "source": [
    "## Formation of various collections"
   ]
  },
  {
   "cell_type": "markdown",
   "metadata": {
    "id": "dI_YGfgPBjZM"
   },
   "source": [
    "Along our journey of NMT, we will need various list, dictionaries and collections mainly comprising of total vocabulary(both languages), dictionary of words indexed by words and also dictionary of numbers indexed by the numbers(or tokens)."
   ]
  },
  {
   "cell_type": "code",
   "execution_count": 6,
   "metadata": {
    "id": "vJkqhELHUG8S"
   },
   "outputs": [],
   "source": [
    "# Vocabulary of English\n",
    "all_eng_words=set()\n",
    "for eng in df['English words/sentences']:\n",
    "    for word in eng.split():\n",
    "        if word not in all_eng_words:\n",
    "            all_eng_words.add(word)\n",
    "\n",
    "# Vocabulary of French \n",
    "all_french_words=set()\n",
    "for fr in df['French words/sentences']:\n",
    "    for word in fr.split():\n",
    "        if word not in all_french_words:\n",
    "            all_french_words.add(word)"
   ]
  },
  {
   "cell_type": "code",
   "execution_count": 7,
   "metadata": {
    "id": "S0NGMzk8BjZO"
   },
   "outputs": [],
   "source": [
    "input_words = sorted(list(all_eng_words))\n",
    "target_words = sorted(list(all_french_words))"
   ]
  },
  {
   "cell_type": "code",
   "execution_count": 8,
   "metadata": {
    "id": "j_bMCZiBUaMX"
   },
   "outputs": [],
   "source": [
    "words_idx_eng_num = dict([(word, i+1) for  i,word in enumerate(input_words)])\n",
    "words_idx_fr_num = dict([(word, i+1) for  i,word in enumerate(target_words)])"
   ]
  },
  {
   "cell_type": "code",
   "execution_count": 9,
   "metadata": {
    "colab": {
     "base_uri": "https://localhost:8080/"
    },
    "id": "OfQ6vV9VUaMZ",
    "outputId": "0e26a1f7-0f2a-49fd-b0c5-4334fb0490d2"
   },
   "outputs": [
    {
     "data": {
      "text/plain": [
       "14279"
      ]
     },
     "execution_count": 9,
     "metadata": {
      "tags": []
     },
     "output_type": "execute_result"
    }
   ],
   "source": [
    "words_idx_eng_num['would']"
   ]
  },
  {
   "cell_type": "markdown",
   "metadata": {
    "id": "Y6fkkU0gUaMd"
   },
   "source": [
    "words_idx_eng_num : Dictionary of all English words indexed by words \\\n",
    "words_idx_fr_num : Dictionary of all French words indexed by words"
   ]
  },
  {
   "cell_type": "code",
   "execution_count": 10,
   "metadata": {
    "id": "r-jcyhRWBjZS"
   },
   "outputs": [],
   "source": [
    "num_idx_eng_words = dict((i, word) for word, i in words_idx_eng_num.items())\n",
    "num_idx_fr_words = dict((i, word) for word, i in words_idx_fr_num.items())"
   ]
  },
  {
   "cell_type": "code",
   "execution_count": 11,
   "metadata": {
    "colab": {
     "base_uri": "https://localhost:8080/",
     "height": 35
    },
    "id": "0AyASfPQBjZT",
    "outputId": "8313d310-9c1f-406c-b5ad-a33869ad5501"
   },
   "outputs": [
    {
     "data": {
      "application/vnd.google.colaboratory.intrinsic+json": {
       "type": "string"
      },
      "text/plain": [
       "'would'"
      ]
     },
     "execution_count": 11,
     "metadata": {
      "tags": []
     },
     "output_type": "execute_result"
    }
   ],
   "source": [
    "num_idx_eng_words[14279]"
   ]
  },
  {
   "cell_type": "markdown",
   "metadata": {
    "id": "-F9YocPGBjZU"
   },
   "source": [
    "num_idx_eng_words : Dictionary of all English words indexed by numbers \\\n",
    "num_idx_fr_words : Dictionary of all French words indexed by numbers"
   ]
  },
  {
   "cell_type": "code",
   "execution_count": 12,
   "metadata": {
    "colab": {
     "base_uri": "https://localhost:8080/"
    },
    "id": "30pu8rPkBjZW",
    "outputId": "13208270-8b34-43bd-8c61-acf4b569c0b7"
   },
   "outputs": [
    {
     "name": "stdout",
     "output_type": "stream",
     "text": [
      "175620\n",
      "44\n",
      "57\n"
     ]
    }
   ],
   "source": [
    "max_eng=0\n",
    "for i in range(0, df.shape[0]):\n",
    "    if(max_eng<len([word for word in df['English words/sentences'][i].split()])):\n",
    "        j=i\n",
    "        max_eng = len([word for word in df['English words/sentences'][i].split()])\n",
    "\n",
    "print(j)\n",
    "print(max_eng)\n",
    "print(len([word for word in df['French words/sentences'][j].split()]))"
   ]
  },
  {
   "cell_type": "markdown",
   "metadata": {
    "id": "QE9Iz7NvBjZd"
   },
   "source": [
    "Therefore the the biggest sentence(in English) is at the end of the data.\n"
   ]
  },
  {
   "cell_type": "code",
   "execution_count": 13,
   "metadata": {
    "colab": {
     "base_uri": "https://localhost:8080/"
    },
    "id": "PCr_9WOlBjZe",
    "outputId": "731b2bb3-6bb0-4fc6-82d2-1af8aff193c3"
   },
   "outputs": [
    {
     "name": "stdout",
     "output_type": "stream",
     "text": [
      "175620\n",
      "57\n",
      "44\n"
     ]
    }
   ],
   "source": [
    "max_fr=0\n",
    "for i in range(0, df.shape[0]):\n",
    "    if(max_fr<len([word for word in df['French words/sentences'][i].split()])):\n",
    "        j=i\n",
    "        max_fr = len([word for word in df['French words/sentences'][i].split()])\n",
    "\n",
    "print(j)\n",
    "print(max_fr)\n",
    "print(len([word for word in df['English words/sentences'][j].split()]))"
   ]
  },
  {
   "cell_type": "markdown",
   "metadata": {
    "id": "M4xeACJXcl7Z"
   },
   "source": [
    "Therefore the the biggest sentence(in French) is also at the end of the data."
   ]
  },
  {
   "cell_type": "markdown",
   "metadata": {
    "id": "2kcXR2SictfL"
   },
   "source": [
    "We save the maximum lenght of english sentence and french sentence as a `max_eng` and `max_fr` respectively. These will be used ahead in encoder-decoder architecture while generating a batch of input data."
   ]
  },
  {
   "cell_type": "code",
   "execution_count": 14,
   "metadata": {
    "colab": {
     "base_uri": "https://localhost:8080/"
    },
    "id": "lg_ZEZoGBjZh",
    "outputId": "c0f8db42-db60-454d-98b7-776218df48f0"
   },
   "outputs": [
    {
     "name": "stdout",
     "output_type": "stream",
     "text": [
      "14409\n",
      "29397\n",
      "14410\n",
      "29398\n"
     ]
    }
   ],
   "source": [
    "num_encoder_tokens = len(all_eng_words)\n",
    "num_decoder_tokens = len(all_french_words)\n",
    "print(num_encoder_tokens)\n",
    "print(num_decoder_tokens)\n",
    "num_encoder_tokens = num_encoder_tokens + 1\n",
    "print(num_encoder_tokens)\n",
    "num_decoder_tokens = num_decoder_tokens + 1\n",
    "print(num_decoder_tokens)"
   ]
  },
  {
   "cell_type": "markdown",
   "metadata": {
    "id": "UGWvdTCQBjZj"
   },
   "source": [
    "## Splitting up the dataset"
   ]
  },
  {
   "cell_type": "code",
   "execution_count": 15,
   "metadata": {
    "colab": {
     "base_uri": "https://localhost:8080/"
    },
    "id": "4fFm6nxqBjZk",
    "outputId": "e2901d92-1276-4c64-f158-bb7409e6b48a"
   },
   "outputs": [
    {
     "data": {
      "text/plain": [
       "((158058,), (17563,))"
      ]
     },
     "execution_count": 15,
     "metadata": {
      "tags": []
     },
     "output_type": "execute_result"
    }
   ],
   "source": [
    "# Splitting of our dataset into Test-Train\n",
    "from sklearn.model_selection import train_test_split\n",
    "X, y = df['English words/sentences'], df['French words/sentences']\n",
    "X_train, X_test, y_train, y_test = train_test_split(X, y, test_size = 0.1)\n",
    "X_train.shape, X_test.shape"
   ]
  },
  {
   "cell_type": "code",
   "execution_count": 16,
   "metadata": {
    "colab": {
     "base_uri": "https://localhost:8080/"
    },
    "id": "qCTpdzb9bw3x",
    "outputId": "a21e07a7-78d1-4093-f8dc-7da9bb9195ac"
   },
   "outputs": [
    {
     "data": {
      "text/plain": [
       "61381                               i just dont believe you\n",
       "154253           i wasnt ready for what was about to happen\n",
       "115306                      i understand but i cannot agree\n",
       "84670                           my father has gone to china\n",
       "26785                                     were just nervous\n",
       "                                ...                        \n",
       "11474                                        im not nervous\n",
       "131461                  tom is probably not happy right now\n",
       "167757    education is one of the most essential aspects...\n",
       "138598                the mere sight of a dog frightens him\n",
       "147521               ill lend you some books of my brothers\n",
       "Name: English words/sentences, Length: 158058, dtype: object"
      ]
     },
     "execution_count": 16,
     "metadata": {
      "tags": []
     },
     "output_type": "execute_result"
    }
   ],
   "source": [
    "X_train"
   ]
  },
  {
   "cell_type": "code",
   "execution_count": 17,
   "metadata": {
    "colab": {
     "base_uri": "https://localhost:8080/"
    },
    "id": "wlZiI_8pbcdN",
    "outputId": "5b922308-e288-49b4-af23-f34931fecc2f"
   },
   "outputs": [
    {
     "data": {
      "text/plain": [
       "61381        START_ je ne te crois tout simplement pas _END\n",
       "154253    START_ je ne mattendais pas à ce qui allait ar...\n",
       "115306    START_ je comprends mais je ne peux pas être d...\n",
       "84670                START_ mon père est allé en chine _END\n",
       "26785            START_ nous sommes simplement nerveux _END\n",
       "                                ...                        \n",
       "11474                   START_ je ne suis pas nerveuse _END\n",
       "131461    START_ tom nest probablement pas heureux en ce...\n",
       "167757    START_ il ny a rien de plus important dans la ...\n",
       "138598    START_ le simple fait de voir un chien lui fai...\n",
       "147521    START_ je vous prêterai quelques livres de mon...\n",
       "Name: French words/sentences, Length: 158058, dtype: object"
      ]
     },
     "execution_count": 17,
     "metadata": {
      "tags": []
     },
     "output_type": "execute_result"
    }
   ],
   "source": [
    "y_train"
   ]
  },
  {
   "cell_type": "markdown",
   "metadata": {
    "id": "nBSFSxNGBjZl"
   },
   "source": [
    "## Encoder-Decoder Architecture"
   ]
  },
  {
   "cell_type": "code",
   "execution_count": 18,
   "metadata": {
    "id": "ibNEOvVgBjZm"
   },
   "outputs": [],
   "source": [
    "# Importing requirements for ENC-DEC Architecture\n",
    "from keras.layers import Input, LSTM, Embedding, Dense\n",
    "from keras.models import Model\n",
    "from sklearn.utils import shuffle"
   ]
  },
  {
   "cell_type": "code",
   "execution_count": 19,
   "metadata": {
    "id": "CacigPHdBjZm"
   },
   "outputs": [],
   "source": [
    "# Setting the parameters\n",
    "latent_dim = 50\n",
    "train_samples = len(X_train)\n",
    "val_samples = len(X_test)\n",
    "batch_size = 128\n",
    "epochs = 10"
   ]
  },
  {
   "cell_type": "code",
   "execution_count": 20,
   "metadata": {
    "id": "lq7YyMXkBjZo"
   },
   "outputs": [],
   "source": [
    "def generate_batch(X, y, batch_size = 128):\n",
    "    ''' Generate a batch of data '''\n",
    "    while True:\n",
    "        for j in range(0, len(X), batch_size):\n",
    "            encoder_input_data = np.zeros((batch_size, max_eng),dtype='float32')\n",
    "            decoder_input_data = np.zeros((batch_size, max_fr),dtype='float32')\n",
    "            decoder_target_data = np.zeros((batch_size, max_fr, num_decoder_tokens),dtype='float32')\n",
    "            for i, (input_text, target_text) in enumerate(zip(X[j:j+batch_size], y[j:j+batch_size])):\n",
    "                for t, word in enumerate(input_text.split()):\n",
    "                    encoder_input_data[i, t] = words_idx_eng_num[word] # encoder input seq\n",
    "                for t, word in enumerate(target_text.split()):\n",
    "                    if t<len(target_text.split())-1:\n",
    "                        decoder_input_data[i, t] = words_idx_fr_num[word] # decoder input seq\n",
    "                    if t>0:\n",
    "                        decoder_target_data[i, t - 1, words_idx_fr_num[word]] = 1.\n",
    "            yield([encoder_input_data, decoder_input_data], decoder_target_data)"
   ]
  },
  {
   "cell_type": "markdown",
   "metadata": {
    "id": "OXlTfLLoBjZs"
   },
   "source": [
    "i refers to batch number \\\n",
    "t refers to the position of that word in that sentence\n",
    "sequence of words for each batch is saved as the number for that word(for eg 2399 for 'would')\n",
    "\n",
    "We dont consider the '_END' while giving an input to decoder therefore the first if function\n",
    "Decoder target sequence does not include the 'START_' token and thus we have used t-1 and given it the value 1 and others all are zero indicating that particular word exists(3rd dimension is number of french words) and the others are not\n"
   ]
  },
  {
   "cell_type": "code",
   "execution_count": 21,
   "metadata": {
    "id": "ZS2pCTLsBjZt"
   },
   "outputs": [],
   "source": [
    "# Encoder\n",
    "encoder_inputs = Input(shape=(None,))\n",
    "enc_emb =  Embedding(num_encoder_tokens, latent_dim, mask_zero = True)(encoder_inputs)\n",
    "encoder_lstm = LSTM(latent_dim, return_state=True)\n",
    "encoder_outputs, state_h, state_c = encoder_lstm(enc_emb)\n",
    "# We discard `encoder_outputs` and only keep the states.\n",
    "encoder_states = [state_h, state_c]"
   ]
  },
  {
   "cell_type": "markdown",
   "metadata": {
    "id": "2ZkMbvPRBjZu"
   },
   "source": [
    "# **LSTM:**\n",
    "\n",
    "![Structure-of-the-LSTM-cell-and-equations-that-describe-the-gates-of-an-LSTM-cell.png](attachment:Structure-of-the-LSTM-cell-and-equations-that-describe-the-gates-of-an-LSTM-cell.png)"
   ]
  },
  {
   "cell_type": "markdown",
   "metadata": {
    "id": "-pjoruZWBjZx"
   },
   "source": [
    "Here we instantiate a tensor 'encoder_inputs' and by passing the shape=(None,) we can have have dimension as any scalar number. It will be mainly filled by . \\\n",
    "We further use the embeddings layer to calculate the embeddings of all the input words(i.e all words in a sentence). All the embeddings will be of the dimension 'latent_dim'\n",
    "\n",
    "We then mainly consider the encoder states(state h and state c)\n",
    "\n"
   ]
  },
  {
   "cell_type": "code",
   "execution_count": 22,
   "metadata": {
    "id": "RcclRnLHBjZy"
   },
   "outputs": [],
   "source": [
    "# Set up the decoder, using `encoder_states` as initial state.\n",
    "decoder_inputs = Input(shape=(None,))\n",
    "dec_emb_layer = Embedding(num_decoder_tokens, latent_dim, mask_zero = True)\n",
    "dec_emb = dec_emb_layer(decoder_inputs)\n",
    "# We set up our decoder to return full output sequences,\n",
    "# and to return internal states as well. We don't use the\n",
    "# return states in the training model, but we will use them in inference.\n",
    "decoder_lstm = LSTM(latent_dim, return_sequences=True, return_state=True)\n",
    "decoder_outputs, _, _ = decoder_lstm(dec_emb,\n",
    "                                     initial_state=encoder_states)\n",
    "decoder_dense = Dense(num_decoder_tokens, activation='softmax')\n",
    "decoder_outputs = decoder_dense(decoder_outputs)\n",
    "\n",
    "# Define the model that will turn\n",
    "# `encoder_input_data` & `decoder_input_data` into `decoder_target_data`\n",
    "model = Model([encoder_inputs, decoder_inputs], decoder_outputs)"
   ]
  },
  {
   "cell_type": "markdown",
   "metadata": {
    "id": "AZz2g8l4BjZz"
   },
   "source": [
    "Here we instantiate a tensor 'decoder_inputs' and by passing the shape=(None,) we can have have dimension as any scalar number. It will be mainly filled by the output states of the encoder \\\n",
    "We further use the embeddings layer to calculate the embeddings of all the input words(i.e all words in a sentence). All the embeddings will be of the dimension 'latent_dim' \\\n",
    "We will use the initial states of decoder as the final states of encoder \n",
    "\n",
    "We then apply a dense layer with softmax activation to choose the output word at each time over all the target(french) words \\\n",
    "\n",
    "We then define the model"
   ]
  },
  {
   "cell_type": "code",
   "execution_count": 23,
   "metadata": {
    "id": "a267aFSSBjZ1"
   },
   "outputs": [],
   "source": [
    "model.compile(optimizer='rmsprop', loss='categorical_crossentropy', metrics=['acc'])"
   ]
  },
  {
   "cell_type": "code",
   "execution_count": 24,
   "metadata": {
    "colab": {
     "base_uri": "https://localhost:8080/",
     "height": 275
    },
    "id": "8UxWjiPpBjZ2",
    "outputId": "7b9bf5e0-f2de-4515-abee-193cb2c8dabd"
   },
   "outputs": [
    {
     "data": {
      "image/png": "[encoded data removed]",
      "text/plain": [
       "<IPython.core.display.Image object>"
      ]
     },
     "execution_count": 24,
     "metadata": {
      "image/png": {
       "height": 258,
       "width": 499
      },
      "tags": []
     },
     "output_type": "execute_result"
    }
   ],
   "source": [
    "from keras.utils import plot_model\n",
    "plot_model(model, to_file='train_model.png', show_shapes=True, show_layer_names=True)\n",
    "from IPython.display import Image\n",
    "Image(retina=True, filename='train_model.png')"
   ]
  },
  {
   "cell_type": "code",
   "execution_count": 25,
   "metadata": {
    "id": "W8mgS3IgBjZ3"
   },
   "outputs": [],
   "source": [
    "TF_FORCE_GPU_ALLOW_GROWTH= True"
   ]
  },
  {
   "cell_type": "code",
   "execution_count": 26,
   "metadata": {
    "colab": {
     "base_uri": "https://localhost:8080/"
    },
    "id": "VAlJ-_4dBjZ4",
    "outputId": "ecdc970b-7d77-4d04-96bb-757a6a439567"
   },
   "outputs": [
    {
     "name": "stderr",
     "output_type": "stream",
     "text": [
      "/usr/local/lib/python3.6/dist-packages/tensorflow/python/keras/engine/training.py:1844: UserWarning: `Model.fit_generator` is deprecated and will be removed in a future version. Please use `Model.fit`, which supports generators.\n",
      "  warnings.warn('`Model.fit_generator` is deprecated and '\n"
     ]
    },
    {
     "name": "stdout",
     "output_type": "stream",
     "text": [
      "Epoch 1/10\n",
      "1234/1234 [==============================] - 801s 639ms/step - loss: 0.8400 - acc: 0.1576 - val_loss: 0.6377 - val_acc: 0.2687\n",
      "Epoch 2/10\n",
      "1234/1234 [==============================] - 795s 644ms/step - loss: 0.6149 - acc: 0.2893 - val_loss: 0.5630 - val_acc: 0.3346\n",
      "Epoch 3/10\n",
      "1234/1234 [==============================] - 793s 643ms/step - loss: 0.5498 - acc: 0.3439 - val_loss: 0.5211 - val_acc: 0.3716\n",
      "Epoch 4/10\n",
      "1234/1234 [==============================] - 793s 643ms/step - loss: 0.5091 - acc: 0.3813 - val_loss: 0.4925 - val_acc: 0.4006\n",
      "Epoch 5/10\n",
      "1234/1234 [==============================] - 797s 646ms/step - loss: 0.4817 - acc: 0.4089 - val_loss: 0.4742 - val_acc: 0.4217\n",
      "Epoch 6/10\n",
      "1234/1234 [==============================] - 795s 644ms/step - loss: 0.4621 - acc: 0.4309 - val_loss: 0.4588 - val_acc: 0.4405\n",
      "Epoch 7/10\n",
      "1234/1234 [==============================] - 795s 644ms/step - loss: 0.4463 - acc: 0.4493 - val_loss: 0.4470 - val_acc: 0.4548\n",
      "Epoch 8/10\n",
      "1234/1234 [==============================] - 798s 647ms/step - loss: 0.4334 - acc: 0.4657 - val_loss: 0.4372 - val_acc: 0.4686\n",
      "Epoch 9/10\n",
      "1234/1234 [==============================] - 788s 638ms/step - loss: 0.4227 - acc: 0.4799 - val_loss: 0.4304 - val_acc: 0.4796\n",
      "Epoch 10/10\n",
      "1234/1234 [==============================] - 794s 644ms/step - loss: 0.4144 - acc: 0.4928 - val_loss: 0.4242 - val_acc: 0.4893\n"
     ]
    },
    {
     "data": {
      "text/plain": [
       "<tensorflow.python.keras.callbacks.History at 0x7f66e4638748>"
      ]
     },
     "execution_count": 26,
     "metadata": {
      "tags": []
     },
     "output_type": "execute_result"
    }
   ],
   "source": [
    "model.fit_generator(generator = generate_batch(X_train, y_train, batch_size = batch_size),steps_per_epoch = train_samples//batch_size,epochs=10,validation_data = generate_batch(X_test, y_test, batch_size = batch_size),validation_steps = val_samples//batch_size)"
   ]
  },
  {
   "cell_type": "code",
   "execution_count": 27,
   "metadata": {
    "id": "b3KWBFnWRmVW"
   },
   "outputs": [],
   "source": [
    "model.save_weights('mt_weights2.h5')"
   ]
  },
  {
   "cell_type": "code",
   "execution_count": 28,
   "metadata": {
    "id": "OTs39peQrPfa"
   },
   "outputs": [],
   "source": [
    "#model.load_weights('mt_weights (1).h5')"
   ]
  },
  {
   "cell_type": "code",
   "execution_count": 29,
   "metadata": {
    "id": "NtBSh-UBBjZ6"
   },
   "outputs": [],
   "source": [
    "# Encode the input sequence to get the \"thought vectors\"\n",
    "encoder_model = Model(encoder_inputs, encoder_states)\n",
    "\n",
    "# Decoder setup\n",
    "# Below tensors will hold the states of the previous time step\n",
    "decoder_state_input_h = Input(shape=(latent_dim,))\n",
    "decoder_state_input_c = Input(shape=(latent_dim,))\n",
    "decoder_states_inputs = [decoder_state_input_h, decoder_state_input_c]\n",
    "\n",
    "dec_emb2= dec_emb_layer(decoder_inputs) # Get the embeddings of the decoder sequence\n",
    "\n",
    "# To predict the next word in the sequence, set the initial states to the states from the previous time step\n",
    "decoder_outputs2, state_h2, state_c2 = decoder_lstm(dec_emb2, initial_state=decoder_states_inputs)\n",
    "decoder_states2 = [state_h2, state_c2]\n",
    "decoder_outputs2 = decoder_dense(decoder_outputs2) # A dense softmax layer to generate prob dist. over the target vocabulary\n",
    "\n",
    "# Final decoder model\n",
    "decoder_model = Model(\n",
    "    [decoder_inputs] + decoder_states_inputs,\n",
    "    [decoder_outputs2] + decoder_states2)"
   ]
  },
  {
   "cell_type": "code",
   "execution_count": 29,
   "metadata": {
    "id": "SFJLZgq6BjZ7"
   },
   "outputs": [],
   "source": []
  },
  {
   "cell_type": "code",
   "execution_count": 29,
   "metadata": {
    "id": "0NxM-7LmBjZ8"
   },
   "outputs": [],
   "source": []
  },
  {
   "cell_type": "code",
   "execution_count": 30,
   "metadata": {
    "id": "Kr1PTvgLBjZ8"
   },
   "outputs": [],
   "source": [
    "def decode_sequence(input_seq):\n",
    "    # Encode the input as state vectors.\n",
    "    states_value = encoder_model.predict(input_seq)\n",
    "    # Generate empty target sequence of length 1.\n",
    "    target_seq = np.zeros((1,1))\n",
    "    # Populate the first character of target sequence with the start character.\n",
    "    target_seq[0, 0] = words_idx_fr_num['START_']\n",
    "\n",
    "    # Sampling loop for a batch of sequences\n",
    "    # (to simplify, here we assume a batch of size 1).\n",
    "    stop_condition = False\n",
    "    decoded_sentence = ''\n",
    "    while not stop_condition:\n",
    "        output_tokens, h, c = decoder_model.predict([target_seq] + states_value)\n",
    "\n",
    "        # Sample a token\n",
    "        sampled_token_index = np.argmax(output_tokens[0, -1, :])\n",
    "        sampled_char = num_idx_fr_words[sampled_token_index]\n",
    "        decoded_sentence += ' '+sampled_char\n",
    "\n",
    "        # Exit condition: either hit max length\n",
    "        # or find stop character.\n",
    "        if (sampled_char == '_END' or\n",
    "           len(decoded_sentence) > 50):\n",
    "            stop_condition = True\n",
    "\n",
    "        # Update the target sequence (of length 1).\n",
    "        target_seq = np.zeros((1,1))\n",
    "        target_seq[0, 0] = sampled_token_index\n",
    "\n",
    "        # Update states\n",
    "        states_value = [h, c]\n",
    "\n",
    "    return decoded_sentence"
   ]
  },
  {
   "cell_type": "code",
   "execution_count": 31,
   "metadata": {
    "id": "xnc3j5bdBjZ9"
   },
   "outputs": [],
   "source": [
    "train_gen = generate_batch(X_train, y_train, batch_size = 1)\n",
    "k=-1"
   ]
  },
  {
   "cell_type": "code",
   "execution_count": 35,
   "metadata": {
    "colab": {
     "base_uri": "https://localhost:8080/"
    },
    "id": "QD1mCV94BjZ-",
    "outputId": "85c27d5b-5655-4ab9-84f8-99f601b5823e",
    "scrolled": true
   },
   "outputs": [
    {
     "name": "stdout",
     "output_type": "stream",
     "text": [
      "Input English sentence: my father has gone to china\n",
      "Actual French Translation:  mon père est allé en chine \n",
      "Predicted French Translation:  mon père est allé au lit \n"
     ]
    }
   ],
   "source": [
    "k+=1\n",
    "(input_seq, actual_output), _ = next(train_gen)\n",
    "decoded_sentence = decode_sequence(input_seq)\n",
    "print('Input English sentence:', X_train[k:k+1].values[0])\n",
    "print('Actual French Translation:', y_train[k:k+1].values[0][6:-4])\n",
    "print('Predicted French Translation:', decoded_sentence[:-4])"
   ]
  },
  {
   "cell_type": "markdown",
   "metadata": {},
   "source": [
    "I hope you guys have got an intuitive understanding of the emcoder-decoder architecture and how we can use it in Seq-2-Seq tasks like we used in Neural Machine Translation.\n",
    "\n",
    "I have used GPU to train the model on Google Collab and have ran only for 10 epochs and thus a poor accuracy. The aim of this notebook was to mainly help you guys to understand the code."
   ]
  },
  {
   "cell_type": "markdown",
   "metadata": {},
   "source": [
    "# Do upvote if you like my work! \n",
    "# :)"
   ]
  }
 ],
 "metadata": {
  "accelerator": "GPU",
  "colab": {
   "name": "machine-translation.ipynb",
   "provenance": [],
   "toc_visible": true
  },
  "kernelspec": {
   "display_name": "Python 3",
   "language": "python",
   "name": "python3"
  },
  "language_info": {
   "codemirror_mode": {
    "name": "ipython",
    "version": 3
   },
   "file_extension": ".py",
   "mimetype": "text/x-python",
   "name": "python",
   "nbconvert_exporter": "python",
   "pygments_lexer": "ipython3",
   "version": "3.7.6"
  }
 },
 "nbformat": 4,
 "nbformat_minor": 1
}
